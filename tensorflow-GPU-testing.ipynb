{
 "cells": [
  {
   "cell_type": "code",
   "execution_count": null,
   "metadata": {},
   "outputs": [],
   "source": [
    "# Import tensorflow, but change the log level for clarity\n",
    "import os\n",
    "os.environ['TF_CPP_MIN_LOG_LEVEL'] = '2' \n",
    "\n",
    "import tensorflow as tf"
   ]
  },
  {
   "cell_type": "code",
   "execution_count": null,
   "metadata": {},
   "outputs": [],
   "source": [
    "# Print Tensorflow version\n",
    "print(\"Version of Tensorflow: \", tf.__version__)"
   ]
  },
  {
   "cell_type": "code",
   "execution_count": null,
   "metadata": {},
   "outputs": [],
   "source": [
    "#tf.config.list_physical_devices()\n",
    "print(\"Number of GPUs Available: \", len(tf.config.list_physical_devices('GPU')))"
   ]
  },
  {
   "cell_type": "code",
   "execution_count": null,
   "metadata": {},
   "outputs": [],
   "source": [
    "#tf.test.is_built_with_cuda()\n",
    "\n",
    "print(\"Is TF built with CUDA?: \", tf.test.is_built_with_cuda())"
   ]
  },
  {
   "cell_type": "code",
   "execution_count": null,
   "metadata": {},
   "outputs": [],
   "source": [
    "#tf.test.is_built_with_gpu_support()\n",
    "print(\"Is TF built with GPU Support?: \", tf.test.is_built_with_gpu_support())"
   ]
  },
  {
   "cell_type": "code",
   "execution_count": null,
   "metadata": {},
   "outputs": [],
   "source": [
    "print(\"Listing the GPU devices: \\n\" , tf.config.list_physical_devices('GPU'))"
   ]
  },
  {
   "cell_type": "code",
   "execution_count": null,
   "metadata": {},
   "outputs": [],
   "source": [
    "print(\"Listing the XLA GPU devices: \\n\" , tf.config.list_physical_devices('XLA_GPU'))\n"
   ]
  },
  {
   "cell_type": "code",
   "execution_count": null,
   "metadata": {},
   "outputs": [],
   "source": [
    "import sys\n",
    "import numpy as np\n",
    "from datetime import datetime\n",
    "\n",
    "tf.compat.v1.disable_eager_execution()\n",
    "\n",
    "shape = (9500, 9500)\n",
    "random_matrix = tf.random.uniform(shape=shape, minval=0, maxval=1)\n",
    "dot_operation = tf.matmul(random_matrix, tf.transpose(random_matrix))\n",
    "sum_operation = tf.reduce_sum(dot_operation)\n",
    "\n",
    "startTime = datetime.now()\n",
    "with tf.compat.v1.Session(config=tf.compat.v1.ConfigProto(log_device_placement=True)) as session:\n",
    "    result = session.run(sum_operation)\n",
    "    print(result)\n",
    "\n",
    "print(\"\\n\" * 5)\n",
    "print(\"Shape:\", shape)\n",
    "print(\"Time taken:\", datetime.now() - startTime)\n",
    "\n",
    "print(\"\\n\" * 1)"
   ]
  }
 ],
 "metadata": {
  "interpreter": {
   "hash": "e7370f93d1d0cde622a1f8e1c04877d8463912d04d973331ad4851f04de6915a"
  },
  "kernelspec": {
   "display_name": "Python 3 (ipykernel)",
   "language": "python",
   "name": "python3"
  },
  "language_info": {
   "codemirror_mode": {
    "name": "ipython",
    "version": 3
   },
   "file_extension": ".py",
   "mimetype": "text/x-python",
   "name": "python",
   "nbconvert_exporter": "python",
   "pygments_lexer": "ipython3",
   "version": "3.8.6"
  }
 },
 "nbformat": 4,
 "nbformat_minor": 4
}
