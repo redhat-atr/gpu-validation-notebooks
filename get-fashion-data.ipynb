{
 "cells": [
  {
   "cell_type": "markdown",
   "id": "ad187c52-de38-45e0-97e6-2755bfe3c17e",
   "metadata": {},
   "source": [
    "First, let's download the notebook (zipped)"
   ]
  },
  {
   "cell_type": "code",
   "execution_count": null,
   "id": "03c8a5e1-48c8-4a81-bd4e-a0f3174a8336",
   "metadata": {},
   "outputs": [],
   "source": [
    "!wget -q --content-disposition https://api.ngc.nvidia.com/v2/resources/nvidia/fashion_mnist_tf_example/versions/1.0/zip -O fashion_mnist_tf_example_1.0.zip \\\n",
    "    && unzip -u fashion_mnist_tf_example_1.0.zip \\\n",
    "    && rm -f fashion_mnist_tf_example_1.0.zip \\\n",
    "    && mv Fash* fashion.ipynb \\\n",
    "    && echo \"done!\""
   ]
  },
  {
   "cell_type": "code",
   "execution_count": null,
   "id": "47188f30-6761-4a1c-a9f7-3dcbc01af1ec",
   "metadata": {},
   "outputs": [],
   "source": [
    "!ls -al"
   ]
  },
  {
   "cell_type": "markdown",
   "id": "33faf34c-bb19-44c2-84ec-b065da8003d4",
   "metadata": {},
   "source": [
    "Now, open the notebook called fashion.ipynb"
   ]
  },
  {
   "cell_type": "code",
   "execution_count": null,
   "id": "929989be-2953-4eb6-9dd6-cff439b1a5ff",
   "metadata": {},
   "outputs": [],
   "source": []
  }
 ],
 "metadata": {
  "kernelspec": {
   "display_name": "Python 3 (ipykernel)",
   "language": "python",
   "name": "python3"
  },
  "language_info": {
   "codemirror_mode": {
    "name": "ipython",
    "version": 3
   },
   "file_extension": ".py",
   "mimetype": "text/x-python",
   "name": "python",
   "nbconvert_exporter": "python",
   "pygments_lexer": "ipython3",
   "version": "3.8.8"
  }
 },
 "nbformat": 4,
 "nbformat_minor": 5
}
